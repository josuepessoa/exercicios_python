{
  "nbformat": 4,
  "nbformat_minor": 0,
  "metadata": {
    "colab": {
      "name": "AC02 - URI - Linguagem de Programação",
      "provenance": [],
      "collapsed_sections": [],
      "authorship_tag": "ABX9TyMg9i9XqJUM8GrVGAPXlhL7",
      "include_colab_link": true
    },
    "kernelspec": {
      "name": "python3",
      "display_name": "Python 3"
    },
    "language_info": {
      "name": "python"
    }
  },
  "cells": [
    {
      "cell_type": "markdown",
      "metadata": {
        "id": "view-in-github",
        "colab_type": "text"
      },
      "source": [
        "<a href=\"https://colab.research.google.com/github/josuepessoa/exercicios_python/blob/main/AC02_URI_Linguagem_de_Programa%C3%A7%C3%A3o.ipynb\" target=\"_parent\"><img src=\"https://colab.research.google.com/assets/colab-badge.svg\" alt=\"Open In Colab\"/></a>"
      ]
    },
    {
      "cell_type": "code",
      "execution_count": null,
      "metadata": {
        "id": "4wPg7678nhFm"
      },
      "outputs": [],
      "source": [
        "#beecrowd | 1142\n",
        "\n",
        "tabuada = int(input())\n",
        "if tabuada >=0 and tabuada <=10:\n",
        "  for n in range(1,11):\n",
        "    print(f\"{tabuada} x {n} = {tabuada*n}\")"
      ]
    },
    {
      "cell_type": "code",
      "source": [
        "#beecrowd | 1164\n",
        "\n",
        "num = int(input())\n",
        "\n",
        "array = [\"\",\"A\",\"B\",\"C\",\"D\",\"E\",\"F\",\"G\",\"H\",\"I\",\"J\",\"K\",\"L\",\"M\",\"N\",\"O\",\"P\",\"Q\",\"R\",\"S\",\"T\",\"U\",\"V\",\"W\",\"X\",\"Y\",\"Z\"]\n",
        "\n",
        "for i in range(1,num+1):\n",
        "  print(f\"{array[i]*i}\")"
      ],
      "metadata": {
        "id": "D4A0gUy4oYuY"
      },
      "execution_count": null,
      "outputs": []
    },
    {
      "cell_type": "code",
      "source": [
        "#beecrowd | 1165\n",
        "soma = 0\n",
        "continua = True\n",
        "\n",
        "while continua:\n",
        "  \n",
        "  doacao = float(input())\n",
        "  if doacao >= 0 :\n",
        "    soma += doacao\n",
        "  else:\n",
        "    continua = False\n",
        "\n",
        "print(f\"VC$ {soma:.2f}\")\n",
        "print(f\"R$ {soma*2.5:.2f}\")"
      ],
      "metadata": {
        "id": "-IDG1Uwxrdcm"
      },
      "execution_count": null,
      "outputs": []
    },
    {
      "cell_type": "code",
      "source": [
        "#beecrowd | 1166\n",
        "\n",
        "divida = int(input())\n",
        "mensalidade = int(input())\n",
        "continua = True\n",
        "contador = 0\n",
        "\n",
        "while True:\n",
        "  \n",
        "  if divida > 0 :\n",
        "    \n",
        "    contador +=1\n",
        "    print(f\"pagamento: {contador}\")\n",
        "    print(f\"antes = {divida}\")\n",
        "    divida -= mensalidade\n",
        "    if divida < 0 :\n",
        "      divida=0\n",
        "      print(f\"depois = {divida}\")\n",
        "      print(\"-----\")\n",
        "      break\n",
        "    print(f\"depois = {divida}\")\n",
        "    print(\"-----\")\n",
        "  \n",
        "  else:\n",
        "    break\n",
        "\n"
      ],
      "metadata": {
        "id": "K_aEZmrTs5Ja"
      },
      "execution_count": null,
      "outputs": []
    },
    {
      "cell_type": "code",
      "source": [
        "#beecrowd | 1167\n",
        "\n",
        "inicio = int(input()) \n",
        "fim = int(input())\n",
        "anos_bissextos = 0\n",
        "\n",
        "if 0 <= inicio <= fim <= 9999:\n",
        "  for ano in range(inicio,fim+1,1):\n",
        "    if ano % 4 == 0 and ano % 100 != 0 or ano % 400 == 0 :\n",
        "      print(f\"{ano}\")\n",
        "      anos_bissextos +=1\n",
        "\n",
        "  print(f\"bissextos: {anos_bissextos}\")"
      ],
      "metadata": {
        "id": "pgbDJt65yRF1"
      },
      "execution_count": null,
      "outputs": []
    },
    {
      "cell_type": "code",
      "source": [
        "#beecrowd | 1168\n",
        "\n",
        "inicio = int(input()) \n",
        "fim = int(input())\n",
        "primos = 0\n",
        "\n",
        "# executa o laço do número inicial \n",
        "# até o final\n",
        "for numero in range(inicio,fim+1,1):\n",
        "  divisoes = 0\n",
        "  cont = 1\n",
        "\n",
        "  # para cada número posicionado, \n",
        "  # executa laço de 1 até ele mesmo, \n",
        "  # para verificar a quantidade de \n",
        "  # divisores  entre 1 e ele mesmo.\n",
        "  while cont <= numero:\n",
        "\n",
        "    #verifica se o número é divisível pelo contador, de 1 ao contador cont\n",
        "    if numero % cont == 0 and numero != 1:\n",
        "      divisoes +=1\n",
        "    cont +=1\n",
        "\n",
        "  # caso tenha apenas 2 divisores, \n",
        "  # marca numero como primo  \n",
        "  if divisoes == 2:\n",
        "    print(f\"{numero}\")\n",
        "    primos +=1  \n",
        "\n",
        "print(f\"primos: {primos}\")"
      ],
      "metadata": {
        "id": "KJQvgrL9zkpy"
      },
      "execution_count": null,
      "outputs": []
    }
  ]
}