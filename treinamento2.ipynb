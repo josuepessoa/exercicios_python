{
  "nbformat": 4,
  "nbformat_minor": 0,
  "metadata": {
    "colab": {
      "name": "treinamento2",
      "provenance": [],
      "collapsed_sections": [],
      "authorship_tag": "ABX9TyPX3iu6SjK5M5tnpqPH3zp3",
      "include_colab_link": true
    },
    "kernelspec": {
      "name": "python3",
      "display_name": "Python 3"
    },
    "language_info": {
      "name": "python"
    }
  },
  "cells": [
    {
      "cell_type": "markdown",
      "metadata": {
        "id": "view-in-github",
        "colab_type": "text"
      },
      "source": [
        "<a href=\"https://colab.research.google.com/github/josuepessoa/exercicios_python/blob/main/treinamento2.ipynb\" target=\"_parent\"><img src=\"https://colab.research.google.com/assets/colab-badge.svg\" alt=\"Open In Colab\"/></a>"
      ]
    },
    {
      "cell_type": "code",
      "execution_count": null,
      "metadata": {
        "id": "CAm4pM4NRqtT"
      },
      "outputs": [],
      "source": [
        "#1044\n",
        "\n",
        "a , b = input().split()\n",
        "\n",
        "a = int(a)\n",
        "b = int(b)\n",
        "\n",
        "if b % a == 0 or a % b == 0:\n",
        "  print(\"Sao Multiplos\")\n",
        "else:\n",
        "  print(\"Nao sao Multiplos\")"
      ]
    },
    {
      "cell_type": "code",
      "source": [
        "#1052\n",
        "\n",
        "num = int(input())\n",
        "\n",
        "mes = [\"\", \"January\", \"February\",\"March\",\"April\",\"May\",\"June\",\"July\",\"August\",\"September\",\"October\",\"November\",\"December\"]\n",
        "\n",
        "print(mes[num])"
      ],
      "metadata": {
        "id": "VGD1ULKDTEcs"
      },
      "execution_count": null,
      "outputs": []
    },
    {
      "cell_type": "code",
      "source": [
        "#1065\n",
        "\n",
        "arr = [int(input()), int(input()), int(input()), int(input()), int(input())]\n",
        "pares = 0\n",
        "\n",
        "for item in arr:\n",
        "  if item % 2 == 0:\n",
        "    pares +=1\n",
        "print(f\"{pares} valores pares\")\n"
      ],
      "metadata": {
        "id": "0DKhjEH_UQ-O"
      },
      "execution_count": null,
      "outputs": []
    },
    {
      "cell_type": "code",
      "source": [
        "#1037\n",
        "\n",
        "num = float(input())\n",
        "ranges = [[0,25],[25,50],[50,75],[75,100]]\n",
        "intervalos = [\"Intervalo [0,25]\",\"Intervalo (25,50]\",\"Intervalo (50,75]\",\"Intervalo (75,100]\"]\n",
        "achou = False\n",
        "i = 0 \n",
        "for item in ranges:  \n",
        "  i +=1\n",
        "  if num >= item[0] and num <= item[1]:\n",
        "    achou = True\n",
        "    break    \n",
        "\n",
        "if achou:\n",
        "  print(f\"{intervalos[i-1]}\") \n",
        "else:\n",
        "  print(\"Fora de intervalo\")"
      ],
      "metadata": {
        "id": "LxKwbhN7Wcdr"
      },
      "execution_count": null,
      "outputs": []
    },
    {
      "cell_type": "code",
      "source": [
        "#1049\n",
        "\n",
        "vert = input()\n",
        "tipo = input()\n",
        "aliment = input()\n",
        "\n",
        "if vert == \"vertebrado\":\n",
        "  if tipo == \"ave\":\n",
        "    if aliment == \"carnivoro\":\n",
        "      print(\"aguia\")\n",
        "    else:\n",
        "      print(\"pomba\")\n",
        "  else:\n",
        "    if aliment == \"onivoro\":\n",
        "      print(\"homem\")\n",
        "    else:\n",
        "      print(\"vaca\")\n",
        "else:\n",
        "  if tipo == \"inseto\":\n",
        "    if aliment == \"hematofago\":\n",
        "      print(\"pulga\")\n",
        "    else:\n",
        "      print(\"lagarta\")\n",
        "  else:\n",
        "    if aliment == \"hematofago\":\n",
        "      print(\"sanguessuga\")\n",
        "    else:\n",
        "      print(\"minhoca\")"
      ],
      "metadata": {
        "id": "XL18HpsIdj2d"
      },
      "execution_count": null,
      "outputs": []
    },
    {
      "cell_type": "code",
      "source": [
        "#1040\n",
        "\n",
        "n1, n2, n3, n4 = input().split()\n",
        "n1 = float(n1)*2\n",
        "n2 = float(n2)*3\n",
        "n3 = float(n3)*4\n",
        "n4 = float(n4)*1\n",
        "\n",
        "media = (n1+n2+n3+n4)/10\n",
        "print(f\"Media: {media:.1f}\")\n",
        "if media >= 7:\n",
        "  print(\"Aluno aprovado.\")\n",
        "elif media < 7 and media >= 5:\n",
        "  print(\"Aluno em exame.\")\n",
        "  exame = float(input())\n",
        "  print(f\"Nota do exame: {exame:.1f}\")\n",
        "  media = (media+exame)/2\n",
        "\n",
        "  if media >= 5:\n",
        "    print(\"Aluno aprovado.\")\n",
        "  else:\n",
        "    print(\"Aluno reprovado\")\n",
        "\n",
        "  print(f\"Media final: {media:.1f}\")\n",
        "\n",
        "else:\n",
        "  print(\"Aluno reprovado.\")\n"
      ],
      "metadata": {
        "id": "1A5LIZ9QLqb1"
      },
      "execution_count": null,
      "outputs": []
    }
  ]
}