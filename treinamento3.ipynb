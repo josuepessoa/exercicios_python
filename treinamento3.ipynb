{
  "nbformat": 4,
  "nbformat_minor": 0,
  "metadata": {
    "colab": {
      "name": "treinamento3",
      "provenance": [],
      "collapsed_sections": [],
      "authorship_tag": "ABX9TyMYXXTEoTA7QR9r68kbIIjg",
      "include_colab_link": true
    },
    "kernelspec": {
      "name": "python3",
      "display_name": "Python 3"
    },
    "language_info": {
      "name": "python"
    }
  },
  "cells": [
    {
      "cell_type": "markdown",
      "metadata": {
        "id": "view-in-github",
        "colab_type": "text"
      },
      "source": [
        "<a href=\"https://colab.research.google.com/github/josuepessoa/exercicios_python/blob/main/treinamento3.ipynb\" target=\"_parent\"><img src=\"https://colab.research.google.com/assets/colab-badge.svg\" alt=\"Open In Colab\"/></a>"
      ]
    },
    {
      "cell_type": "code",
      "execution_count": null,
      "metadata": {
        "id": "Xentd4L0Qmyi"
      },
      "outputs": [],
      "source": [
        "#1067\n",
        "\n",
        "x = int(input())\n",
        "\n",
        "for n in range(1,x+1):\n",
        "  if n % 2 != 0:\n",
        "    print(f\"{n}\")"
      ]
    },
    {
      "cell_type": "code",
      "source": [
        "#1071\n",
        "n1 = int(input())\n",
        "n2 = int(input())\n",
        "soma = 0\n",
        "\n",
        "for i in range(n1-1,n2,-1):\n",
        "  if i % 2 != 0:\n",
        "    soma += i\n",
        "\n",
        "print(f\"{soma}\")"
      ],
      "metadata": {
        "id": "-5dyelUUSnbv"
      },
      "execution_count": null,
      "outputs": []
    },
    {
      "cell_type": "code",
      "source": [
        "#1073\n",
        "\n",
        "n = int(input())\n",
        "\n",
        "for i in range(1,n+1):\n",
        "  if i % 2 == 0:\n",
        "    print(f\"{i}^2 = {i**2}\")"
      ],
      "metadata": {
        "id": "LvWLWgvbUK5E"
      },
      "execution_count": null,
      "outputs": []
    },
    {
      "cell_type": "code",
      "source": [
        "#1154\n",
        "arr = []\n",
        "apenda = True\n",
        "soma = 0\n",
        "while apenda:\n",
        "  n = int(input())\n",
        "  if n > 0 :\n",
        "    arr.append(n)\n",
        "  else:\n",
        "    apenda = False\n",
        "\n",
        "for i in arr:\n",
        "  soma += i\n",
        "\n",
        "media = soma / len(arr)\n",
        "\n",
        "print(f\"{media:.2f}\")"
      ],
      "metadata": {
        "id": "pSbPi6YdW9a7"
      },
      "execution_count": null,
      "outputs": []
    },
    {
      "cell_type": "code",
      "source": [
        "#1153\n",
        "n = int(input())\n",
        "fatorial = n\n",
        "for i in range(n-1,0, -1):\n",
        "  fatorial *= i  \n",
        "  \n",
        "print(f\"{fatorial}\")"
      ],
      "metadata": {
        "id": "ygSFTOCiYJtx"
      },
      "execution_count": null,
      "outputs": []
    },
    {
      "cell_type": "code",
      "source": [
        "#1080\n",
        "\n",
        "posicao = 0\n",
        "maior = 0\n",
        "cont = 1\n",
        "\n",
        "while cont <= 100:\n",
        "  n = int(input())\n",
        "\n",
        "  if n > maior :\n",
        "    maior = n \n",
        "    posicao = cont\n",
        "  \n",
        "  cont +=1\n",
        "\n",
        "print(f\"{maior}\")\n",
        "print(f\"{posicao}\")\n",
        "  \n"
      ],
      "metadata": {
        "id": "p2Ynwbv4c81h"
      },
      "execution_count": null,
      "outputs": []
    },
    {
      "cell_type": "code",
      "source": [
        "#1953\n",
        "while True:\n",
        "    try:\n",
        "        n = int(input())\n",
        "        epr = 0\n",
        "        ehd = 0\n",
        "        intruso = 0\n",
        "        for i in range(n):\n",
        "            l, curso = input().split()\n",
        "            if curso == 'EPR':\n",
        "                epr += 1\n",
        "            elif curso == 'EHD':\n",
        "                ehd += 1\n",
        "            else:\n",
        "                intruso += 1\n",
        "       \n",
        "        print('EPR: %d' % epr)\n",
        "        print('EHD: %d' % ehd)\n",
        "        print('INTRUSOS: %d' % intruso)\n",
        "       \n",
        "    except EOFError:\n",
        "        break"
      ],
      "metadata": {
        "id": "MSlzYf3Kd9-_"
      },
      "execution_count": null,
      "outputs": []
    }
  ]
}