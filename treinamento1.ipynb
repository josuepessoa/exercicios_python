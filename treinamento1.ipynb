{
  "nbformat": 4,
  "nbformat_minor": 0,
  "metadata": {
    "colab": {
      "name": "treinamento1",
      "provenance": [],
      "authorship_tag": "ABX9TyMNMU8vC291MlCqEQBeJKkh",
      "include_colab_link": true
    },
    "kernelspec": {
      "name": "python3",
      "display_name": "Python 3"
    },
    "language_info": {
      "name": "python"
    }
  },
  "cells": [
    {
      "cell_type": "markdown",
      "metadata": {
        "id": "view-in-github",
        "colab_type": "text"
      },
      "source": [
        "<a href=\"https://colab.research.google.com/github/josuepessoa/exercicios_python/blob/main/treinamento1.ipynb\" target=\"_parent\"><img src=\"https://colab.research.google.com/assets/colab-badge.svg\" alt=\"Open In Colab\"/></a>"
      ]
    },
    {
      "cell_type": "code",
      "execution_count": null,
      "metadata": {
        "id": "tVp47gXEFcPb"
      },
      "outputs": [],
      "source": [
        "#1007\n",
        "\n",
        "a = int(input())\n",
        "b = int(input())\n",
        "c = int(input())\n",
        "d = int(input())\n",
        "\n",
        "dif = (a*b-c*d)\n",
        "\n",
        "print(f\"DIFERENCA = {dif}\")"
      ]
    },
    {
      "cell_type": "code",
      "source": [
        "#1014 \n",
        "dist = round(float(input()),1)\n",
        "totCombustivel = round(float(input()),1)\n",
        "\n",
        "consumo = dist / totCombustivel\n",
        "\n",
        "print(f\"{consumo:.3f} km/l\")\n"
      ],
      "metadata": {
        "id": "_ciCh_3RF7WI"
      },
      "execution_count": null,
      "outputs": []
    },
    {
      "cell_type": "code",
      "source": [
        "#1008\n",
        "\n",
        "trabalhador = int(input())\n",
        "horas = int(input())\n",
        "valor_hora = float(input())\n",
        "\n",
        "salario = round(valor_hora * horas , 2)\n",
        "\n",
        "print(f\"NUMBER = {trabalhador}\")\n",
        "print(f\"SALARY = U$ {salario:.2f}\\n\")\n"
      ],
      "metadata": {
        "id": "bf5kKlkXGkPG"
      },
      "execution_count": null,
      "outputs": []
    },
    {
      "cell_type": "code",
      "source": [
        "#1009\n",
        "\n",
        "nome = input()\n",
        "\n",
        "salario = round(float(input()),2)\n",
        "vendas = round(float(input()),2)\n",
        "\n",
        "comissao = vendas * 0.15 \n",
        "receber = round(salario + comissao,2)\n",
        "\n",
        "print(f\"TOTAL = R$ {receber:.2f}\")"
      ],
      "metadata": {
        "id": "-w9DOnztKY0N"
      },
      "execution_count": null,
      "outputs": []
    },
    {
      "cell_type": "code",
      "source": [
        "#1012\n",
        "\n",
        "a,b,c = input().split()\n",
        "a =  float(a)\n",
        "b = float(b)\n",
        "c = float(c)\n",
        "\n",
        "#a\n",
        "triangulo = (a * c) / 2\n",
        "\n",
        "#b\n",
        "circulo = 3.14159 * c ** 2\n",
        "\n",
        "#c\n",
        "trapezio = ((a+b)*c)/2\n",
        "\n",
        "#d\n",
        "quadrado = b * b\n",
        "\n",
        "#e\n",
        "retangulo = a * b\n",
        "\n",
        "print(f\"TRIANGULO: {triangulo:.3f}\")\n",
        "print(f\"CIRCULO: {circulo:.3f}\")\n",
        "print(f\"TRAPEZIO: {trapezio:.3f}\")\n",
        "print(f\"QUADRADO: {quadrado:.3f}\")\n",
        "print(f\"RETANGULO: {retangulo:.3f}\")"
      ],
      "metadata": {
        "id": "ZHel33K1LI3D"
      },
      "execution_count": null,
      "outputs": []
    },
    {
      "cell_type": "code",
      "source": [
        "#1015\n",
        "\n",
        "x1, y1 = input().split()\n",
        "x2, y2 = input().split()\n",
        "\n",
        "x1 = float(x1)\n",
        "x2 = float(x2)\n",
        "y1 = float(y1)\n",
        "y2 = float(y2)\n",
        "\n",
        "dist = (((x2-x1)**2) + ((y2-y1)**2))**(1/2)\n",
        "\n",
        "print(f\"{dist:.4f}\")"
      ],
      "metadata": {
        "id": "9MnFJVaJP9XH"
      },
      "execution_count": null,
      "outputs": []
    }
  ]
}