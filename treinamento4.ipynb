{
  "nbformat": 4,
  "nbformat_minor": 0,
  "metadata": {
    "colab": {
      "name": "treinamento4",
      "provenance": [],
      "collapsed_sections": [],
      "authorship_tag": "ABX9TyPNN1M4dRJZKJLRA1DnLZzZ",
      "include_colab_link": true
    },
    "kernelspec": {
      "name": "python3",
      "display_name": "Python 3"
    },
    "language_info": {
      "name": "python"
    }
  },
  "cells": [
    {
      "cell_type": "markdown",
      "metadata": {
        "id": "view-in-github",
        "colab_type": "text"
      },
      "source": [
        "<a href=\"https://colab.research.google.com/github/josuepessoa/exercicios_python/blob/main/treinamento4.ipynb\" target=\"_parent\"><img src=\"https://colab.research.google.com/assets/colab-badge.svg\" alt=\"Open In Colab\"/></a>"
      ]
    },
    {
      "cell_type": "code",
      "execution_count": null,
      "metadata": {
        "id": "Lj1gpeNjqNuh"
      },
      "outputs": [],
      "source": [
        "#1546\n",
        "\n",
        "casos_teste = int(input()) \n",
        "cont = 1\n",
        "arr = [\"\",\"Rolien\",\"Naej\",\"Elehcim\",\"Odranoel\"]\n",
        "\n",
        "while cont <= casos_teste : #para cada caso de teste\n",
        "  feedbacks = int(input())\n",
        "  cont2 = 1\n",
        "\n",
        "  while cont2 <= feedbacks: #para quantidade de feedbacks\n",
        "    membro = int(input())\n",
        "    print(f\"{arr[membro]}\")\n",
        "    cont2 += 1\n",
        "\n",
        "  cont +=1\n"
      ]
    },
    {
      "cell_type": "code",
      "source": [
        "#1953\n",
        "while True:\n",
        "    try:\n",
        "        n = int(input())\n",
        "        epr = 0\n",
        "        ehd = 0\n",
        "        intruso = 0\n",
        "        for i in range(n):\n",
        "            l, curso = input().split()\n",
        "            if curso == 'EPR':\n",
        "                epr += 1\n",
        "            elif curso == 'EHD':\n",
        "                ehd += 1\n",
        "            else:\n",
        "                intruso += 1\n",
        "       \n",
        "        print('EPR: %d' % epr)\n",
        "        print('EHD: %d' % ehd)\n",
        "        print('INTRUSOS: %d' % intruso)\n",
        "       \n",
        "    except EOFError:\n",
        "        break"
      ],
      "metadata": {
        "id": "bT2Zl7gpqQcP"
      },
      "execution_count": null,
      "outputs": []
    },
    {
      "cell_type": "code",
      "source": [
        "#1165\n",
        "\n",
        "while True:\n",
        "  try:\n",
        "    n = int(input())\n",
        "    for i in range(n):\n",
        "      numero = int(input())\n",
        "      cont = 1\n",
        "      divisoes = 0\n",
        "      while cont <= numero:\n",
        "        if numero % cont == 0:\n",
        "          divisoes +=1\n",
        "        cont +=1\n",
        "      if divisoes > 2:\n",
        "        print(f\"{numero} nao eh primo\")\n",
        "      else:\n",
        "        print(f\"{numero} eh primo\")\n",
        "  except EOFError:\n",
        "      break"
      ],
      "metadata": {
        "id": "ceJSrG0ftQOB"
      },
      "execution_count": null,
      "outputs": []
    },
    {
      "cell_type": "code",
      "source": [
        "#1164\n",
        "\n",
        "while True:\n",
        "  try:\n",
        "    n = int(input())\n",
        "    for i in range(n):\n",
        "      numero = int(input())\n",
        "      cont = 1\n",
        "      soma = 0\n",
        "      while cont <= numero:\n",
        "        if numero % cont == 0 and cont != numero:\n",
        "          soma += cont\n",
        "        cont +=1\n",
        "      if soma == numero:\n",
        "        print(f\"{numero} eh perfeito\")\n",
        "      else:\n",
        "        print(f\"{numero} nao eh perfeito\")\n",
        "      \n",
        "  except EOFError:\n",
        "      break"
      ],
      "metadata": {
        "id": "bfGvz20awx5J"
      },
      "execution_count": null,
      "outputs": []
    },
    {
      "cell_type": "code",
      "source": [
        "#3037\n",
        "\n",
        "while True:\n",
        "  try:\n",
        "    n = int(input())\n",
        "    for i in range(n):\n",
        "      somaj = 0\n",
        "      somam= 0\n",
        "      for j in range(3):\n",
        "        x, d = input().split()\n",
        "        x = int(x)\n",
        "        d = int(d)\n",
        "        somaj += (x * d)\n",
        "      for m in range(3):\n",
        "        x, d = input().split()\n",
        "        x = int(x)\n",
        "        d = int(d)\n",
        "        somam += (x * d)\n",
        "      if somaj > somam:\n",
        "        print(\"JOAO\")\n",
        "      else:\n",
        "        print(\"MARIA\")\n",
        "      \n",
        "  except EOFError:\n",
        "      break"
      ],
      "metadata": {
        "id": "fAKP758MyDus"
      },
      "execution_count": null,
      "outputs": []
    },
    {
      "cell_type": "code",
      "source": [
        "#1285\n",
        "\n",
        "while True:\n",
        "    try:\n",
        "        n, m = input().split()\n",
        "        qt = 0\n",
        "        for x in range(int(n), int(m)+1):\n",
        "            if len(set(list(str(x)))) == len(str(x)):\n",
        "                qt += 1\n",
        "        print(qt)\n",
        "                \n",
        "        \n",
        "    except EOFError:\n",
        "        break\n"
      ],
      "metadata": {
        "id": "pYVYKf872xN3"
      },
      "execution_count": null,
      "outputs": []
    }
  ]
}