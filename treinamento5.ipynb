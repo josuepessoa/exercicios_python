{
  "nbformat": 4,
  "nbformat_minor": 0,
  "metadata": {
    "colab": {
      "name": "treinamento5",
      "provenance": [],
      "collapsed_sections": [],
      "authorship_tag": "ABX9TyMW4wrRcjy6npa7qZC1Thlf",
      "include_colab_link": true
    },
    "kernelspec": {
      "name": "python3",
      "display_name": "Python 3"
    },
    "language_info": {
      "name": "python"
    }
  },
  "cells": [
    {
      "cell_type": "markdown",
      "metadata": {
        "id": "view-in-github",
        "colab_type": "text"
      },
      "source": [
        "<a href=\"https://colab.research.google.com/github/josuepessoa/exercicios_python/blob/main/treinamento5.ipynb\" target=\"_parent\"><img src=\"https://colab.research.google.com/assets/colab-badge.svg\" alt=\"Open In Colab\"/></a>"
      ]
    },
    {
      "cell_type": "code",
      "execution_count": null,
      "metadata": {
        "id": "puSXRopE9xox"
      },
      "outputs": [],
      "source": [
        "#1172\n",
        "\n",
        "for i in range(10):\n",
        "  x = int(input())\n",
        "  if x < 1:\n",
        "    print(f\"X[{i}] = {1}\")\n",
        "  else:\n",
        "    print(f\"X[{i}] = {x}\")"
      ]
    },
    {
      "cell_type": "code",
      "source": [
        "#1173\n",
        "valor = int(input())\n",
        "for i in range(10):\n",
        "  \n",
        "  print(f\"N[{i}] = {valor}\")\n",
        "  valor = valor * 2"
      ],
      "metadata": {
        "id": "eLbPxPSPBPug"
      },
      "execution_count": null,
      "outputs": []
    },
    {
      "cell_type": "code",
      "source": [
        "#1174\n",
        "\n",
        "while True:\n",
        "  try:\n",
        "    arr = []\n",
        "    cont = 0\n",
        "    for i in range(100):\n",
        "      arr.append(float(input()))\n",
        "\n",
        "    for i in arr:\n",
        "      if i <=10:\n",
        "        print(f\"A[{cont}] = {i:.1f}\")\n",
        "      cont +=1\n",
        "\n",
        "  except EOFError:\n",
        "        break"
      ],
      "metadata": {
        "id": "Fu_7XdXVCeWn"
      },
      "execution_count": null,
      "outputs": []
    },
    {
      "cell_type": "code",
      "source": [
        "#1175\n",
        "\n",
        "arr = []\n",
        "inputs = 20\n",
        "\n",
        "for i in range(inputs):\n",
        "  arr.append(int(input()))   \n",
        "  cont = 0\n",
        "for i in range(inputs,0,-1):  \n",
        "  print(f\"N[{cont}] = {arr[i-1]}\")\n",
        "  cont +=1"
      ],
      "metadata": {
        "id": "mCswstO0Fx41"
      },
      "execution_count": null,
      "outputs": []
    },
    {
      "cell_type": "code",
      "source": [
        "#1177\n",
        "\n",
        "t = int(input())\n",
        "cont = 0\n",
        "result = []\n",
        "for i in range(1000):\n",
        "  if cont < t :\n",
        "    result.append(cont)    \n",
        "  else:\n",
        "    cont = 0\n",
        "    result.append(cont)\n",
        "  cont +=1\n",
        "\n",
        "cont = 0\n",
        "for i in result:\n",
        "  print(f\"N[{cont}] = {i}\")\n",
        "  cont +=1"
      ],
      "metadata": {
        "id": "YNbLocutJThX"
      },
      "execution_count": null,
      "outputs": []
    },
    {
      "cell_type": "code",
      "source": [
        "#1961\n",
        "#resolucao sem funcao\n",
        "pulo,rodadas = map(int,input().split())\n",
        "canos = input().split()\n",
        "passou = True\n",
        "\n",
        "for i in range(rodadas):\n",
        "  canos[i] = int(canos[i])\n",
        "\n",
        "for i in range(rodadas-1):\n",
        "  passou = abs(canos[i] - canos[i+1]) <= pulo\n",
        "  if not passou :    \n",
        "    print('GAME OVER')\n",
        "    break\n",
        "\n",
        "if passou:\n",
        "  print('YOU WIN')"
      ],
      "metadata": {
        "id": "TdRLBi0sOO_X"
      },
      "execution_count": null,
      "outputs": []
    },
    {
      "cell_type": "code",
      "source": [
        "#1961\n",
        "#resolucao com funcao\n",
        "\n",
        "def entrada():\n",
        "    p,n = map(int,input().split())\n",
        "    x = input().split()\n",
        "    for i in range(len(x)):\n",
        "        x[i] = int(x[i]) \n",
        "   \n",
        "    return p,n,x\n",
        "\n",
        "def verifica(a,b,p):\n",
        "    if abs(a-b) > p:\n",
        "        return True\n",
        "    else:\n",
        "        return False\n",
        "\n",
        "def main():\n",
        "    p,n,x = entrada()\n",
        "    a = False\n",
        "    for i in range(n-1):\n",
        "        a = verifica(x[i],x[i+1],p)\n",
        "        if a == True:\n",
        "            print('GAME OVER')\n",
        "            break\n",
        "    if a == False:\n",
        "        print('YOU WIN')"
      ],
      "metadata": {
        "id": "wdTmBjI1TI38"
      },
      "execution_count": null,
      "outputs": []
    }
  ]
}