{
  "nbformat": 4,
  "nbformat_minor": 0,
  "metadata": {
    "colab": {
      "name": "AC01 - URI - Linguagem de Programação",
      "provenance": [],
      "collapsed_sections": [],
      "authorship_tag": "ABX9TyNOZSS7wiWNBFOpadbJ7GOQ",
      "include_colab_link": true
    },
    "kernelspec": {
      "name": "python3",
      "display_name": "Python 3"
    },
    "language_info": {
      "name": "python"
    }
  },
  "cells": [
    {
      "cell_type": "markdown",
      "metadata": {
        "id": "view-in-github",
        "colab_type": "text"
      },
      "source": [
        "<a href=\"https://colab.research.google.com/github/josuepessoa/exercicios_python/blob/main/AC01_URI_Linguagem_de_Programa%C3%A7%C3%A3o.ipynb\" target=\"_parent\"><img src=\"https://colab.research.google.com/assets/colab-badge.svg\" alt=\"Open In Colab\"/></a>"
      ]
    },
    {
      "cell_type": "code",
      "execution_count": null,
      "metadata": {
        "id": "94ndiBEPouxV"
      },
      "outputs": [],
      "source": [
        "#1126\n",
        "\n",
        "dia = input()\n",
        "prazo = int(input())\n",
        "dias_semana = ['domingo', 'segunda', 'terca', 'quarta', 'quinta', 'sexta' , 'sabado']\n",
        "aux = 0\n",
        "\n",
        "if prazo == 0:\n",
        "  print(\"chega hoje!\")\n",
        "else:\n",
        "  #procura dia da semana no array\n",
        "  for i in range(6):\n",
        "    if dia == dias_semana[i]:    \n",
        "      break\n",
        "    aux += 1  \n",
        "  #soma prazo  \n",
        "  for j in range(1,prazo+1):   \n",
        "    if aux == 6:\n",
        "      aux = 0 \n",
        "    else:   \n",
        "      aux += 1     \n",
        "  print(f\"sera entregue {dias_semana[aux]}\")"
      ]
    },
    {
      "cell_type": "code",
      "source": [
        "#1125\n",
        "\n",
        "ntrabalho = float(input())\n",
        "nprova = float(input())\n",
        "\n",
        "media = (ntrabalho + nprova) / 2\n",
        "\n",
        "if media >=6:\n",
        "  print(\"aprovado\")\n",
        "elif ((ntrabalho + 10) / 2 ) >=6:\n",
        "  print('talvez com a sub')\n",
        "else:\n",
        "  print(\"reprovado\")"
      ],
      "metadata": {
        "id": "D8C0RaCUxXJY"
      },
      "execution_count": null,
      "outputs": []
    },
    {
      "cell_type": "code",
      "source": [
        "#1124\n",
        "\n",
        "numero = int(input())\n",
        "par = numero % 2 == 0\n",
        "nimpar = 0\n",
        "npar = 0\n",
        "\n",
        "if par:\n",
        "  nimpar = numero - 1\n",
        "  npar = numero + 2\n",
        "else:\n",
        "  nimpar = numero - 2\n",
        "  npar = numero + 1\n",
        "\n",
        "print(f\"{nimpar} {npar}\")"
      ],
      "metadata": {
        "id": "r2CjDKhN0O8u"
      },
      "execution_count": null,
      "outputs": []
    },
    {
      "cell_type": "code",
      "source": [
        "#1123\n",
        "\n",
        "polegadas = float(input())\n",
        "centimentros = polegadas * 2.54\n",
        "print(f\"{centimentros:.3f}\")"
      ],
      "metadata": {
        "id": "Oz_r_dQz1FOp"
      },
      "execution_count": null,
      "outputs": []
    },
    {
      "cell_type": "code",
      "source": [
        "#1122\n",
        "soma = 0\n",
        "for i in range(3):\n",
        "  soma += int(input())\n",
        "print(f\"{soma} minutos\")"
      ],
      "metadata": {
        "id": "Cp07ot3Z1nCW"
      },
      "execution_count": null,
      "outputs": []
    },
    {
      "cell_type": "code",
      "source": [
        "#1121\n",
        "\n",
        "preco = float(input())\n",
        "quantidade = int(input())\n",
        "desconto = (10 + quantidade) / 100 #passando para percentual\n",
        "\n",
        "preco_real = quantidade * preco\n",
        "preco_desconto = preco_real * ( 1 - desconto )\n",
        "\n",
        "print(f\"{preco_real:.2f}\")\n",
        "print(f\"{preco_desconto:.2f}\")"
      ],
      "metadata": {
        "id": "bQT1qlVp2NEk"
      },
      "execution_count": null,
      "outputs": []
    }
  ]
}