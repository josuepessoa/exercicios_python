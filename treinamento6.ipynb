{
  "nbformat": 4,
  "nbformat_minor": 0,
  "metadata": {
    "colab": {
      "name": "treinamento6",
      "provenance": [],
      "authorship_tag": "ABX9TyOz6JR1qz05YwEDwm7Qp+U9",
      "include_colab_link": true
    },
    "kernelspec": {
      "name": "python3",
      "display_name": "Python 3"
    },
    "language_info": {
      "name": "python"
    }
  },
  "cells": [
    {
      "cell_type": "markdown",
      "metadata": {
        "id": "view-in-github",
        "colab_type": "text"
      },
      "source": [
        "<a href=\"https://colab.research.google.com/github/josuepessoa/exercicios_python/blob/main/treinamento6.ipynb\" target=\"_parent\"><img src=\"https://colab.research.google.com/assets/colab-badge.svg\" alt=\"Open In Colab\"/></a>"
      ]
    },
    {
      "cell_type": "code",
      "execution_count": null,
      "metadata": {
        "id": "XWF7-KIiWqrn"
      },
      "outputs": [],
      "source": [
        "#1181\n",
        "\n",
        "linha = int(input())\n",
        "operacao = input() # S para Soma | M para Media\n",
        "linhas = []\n",
        "\n",
        "for i in range(12):\n",
        "  dados = []\n",
        "  for j in range(12):\n",
        "    dados.append(float(input()))\n",
        "  linhas.append(dados)\n",
        "\n",
        "novaLinha = linhas[linha]\n",
        "soma = 0\n",
        "for i in novaLinha:\n",
        "  soma += i\n",
        "\n",
        "if operacao == 'S':\n",
        "  print(f\"{soma:.1f}\")\n",
        "else:\n",
        "  print(f\"{soma/len(novaLinha):.1f}\")"
      ]
    },
    {
      "cell_type": "code",
      "source": [
        "#1182\n",
        "\n",
        "coluna = int(input())\n",
        "operacao = input() # S para Soma | M para Media\n",
        "linhas = []\n",
        "\n",
        "for i in range(12):\n",
        "  dados = []\n",
        "  for j in range(12):\n",
        "    dados.append(float(input()))\n",
        "  linhas.append(dados)\n",
        "\n",
        "soma = 0\n",
        "for i in linhas:\n",
        "  soma += i[coluna]\n",
        "\n",
        "if operacao == 'S':\n",
        "  print(f\"{soma:.1f}\")\n",
        "else:\n",
        "  print(f\"{soma/12:.1f}\")"
      ],
      "metadata": {
        "id": "ozasc5GqbRla"
      },
      "execution_count": null,
      "outputs": []
    },
    {
      "cell_type": "code",
      "source": [
        "#1183\n",
        "\n",
        "operacao = input() # S para Soma | M para Media\n",
        "linhas = []\n",
        "\n",
        "for i in range(12):\n",
        "  dados = []\n",
        "  for j in range(12):\n",
        "    dados.append(float(input()))\n",
        "  linhas.append(dados)\n",
        "\n",
        "soma = 0\n",
        "cont = 0\n",
        "for l in range(12):\n",
        "  dados = linhas[l]\n",
        "  #print(f\"dados {dados}\")\n",
        "  for j in range(12):\n",
        "    #print(f\" l {l} e j {j} \")\n",
        "    if j > l: \n",
        "      soma += dados[j]\n",
        "      cont += 1\n",
        "\n",
        "if operacao == 'S':\n",
        "  print(f\"{soma:.1f}\")\n",
        "else:\n",
        "  print(f\"{soma/cont:.1f}\")"
      ],
      "metadata": {
        "id": "r4Bjcfpnb_vE"
      },
      "execution_count": null,
      "outputs": []
    }
  ]
}